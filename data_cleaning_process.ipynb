{
 "cells": [
  {
   "cell_type": "markdown",
   "metadata": {},
   "source": [
    "%Data cleaning process"
   ]
  },
  {
   "cell_type": "code",
   "execution_count": 2,
   "metadata": {},
   "outputs": [],
   "source": [
    "\n",
    "import pandas as pd"
   ]
  },
  {
   "cell_type": "code",
   "execution_count": 3,
   "metadata": {},
   "outputs": [],
   "source": [
    "reviews = pd.read_csv(\"Airlines_User-Reviews_Raw.csv\")"
   ]
  },
  {
   "cell_type": "code",
   "execution_count": 4,
   "metadata": {},
   "outputs": [
    {
     "name": "stdout",
     "output_type": "stream",
     "text": [
      "<class 'pandas.core.frame.DataFrame'>\n",
      "RangeIndex: 3290 entries, 0 to 3289\n",
      "Data columns (total 15 columns):\n",
      " #   Column                  Non-Null Count  Dtype  \n",
      "---  ------                  --------------  -----  \n",
      " 0   Aircraft Type           1896 non-null   object \n",
      " 1   Users Reviews           3290 non-null   object \n",
      " 2   Country                 3289 non-null   object \n",
      " 3   Type_of_Travellers      2887 non-null   object \n",
      " 4   Route                   2883 non-null   object \n",
      " 5   Seat_Types              3287 non-null   object \n",
      " 6   Seat Comfort            3176 non-null   float64\n",
      " 7   Date Flown              2880 non-null   object \n",
      " 8   Cabin Staff Service     3165 non-null   float64\n",
      " 9   Ground Service          2812 non-null   float64\n",
      " 10  Food & Beverages        2911 non-null   float64\n",
      " 11  Wifi & Connectivity     592 non-null    float64\n",
      " 12  Inflight Entertainment  2171 non-null   float64\n",
      " 13  Value For Money         3290 non-null   int64  \n",
      " 14  Recommended             3290 non-null   object \n",
      "dtypes: float64(6), int64(1), object(8)\n",
      "memory usage: 385.7+ KB\n"
     ]
    }
   ],
   "source": [
    "reviews.info()"
   ]
  }
 ],
 "metadata": {
  "kernelspec": {
   "display_name": "base",
   "language": "python",
   "name": "python3"
  },
  "language_info": {
   "codemirror_mode": {
    "name": "ipython",
    "version": 3
   },
   "file_extension": ".py",
   "mimetype": "text/x-python",
   "name": "python",
   "nbconvert_exporter": "python",
   "pygments_lexer": "ipython3",
   "version": "3.11.5"
  },
  "orig_nbformat": 4
 },
 "nbformat": 4,
 "nbformat_minor": 2
}

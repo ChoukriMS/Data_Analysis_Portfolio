{
 "cells": [
  {
   "cell_type": "markdown",
   "metadata": {},
   "source": [
    "# Data cleaning process"
   ]
  },
  {
   "cell_type": "markdown",
   "metadata": {},
   "source": [
    "## Methodology\n",
    "\n",
    "### Exploring data\n",
    "- First of all let import pandas and our airlineReviews.csv \n",
    "- Then let see if there is any duplicates \n",
    "- After that where gonna look for Null values \n",
    "\n",
    "\n",
    "### Take actions \n"
   ]
  },
  {
   "cell_type": "code",
   "execution_count": 9,
   "metadata": {},
   "outputs": [
    {
     "name": "stdout",
     "output_type": "stream",
     "text": [
      "<class 'pandas.core.frame.DataFrame'>\n",
      "RangeIndex: 3290 entries, 0 to 3289\n",
      "Data columns (total 15 columns):\n",
      " #   Column                  Non-Null Count  Dtype  \n",
      "---  ------                  --------------  -----  \n",
      " 0   Aircraft Type           1896 non-null   object \n",
      " 1   Users Reviews           3290 non-null   object \n",
      " 2   Country                 3289 non-null   object \n",
      " 3   Type_of_Travellers      2887 non-null   object \n",
      " 4   Route                   2883 non-null   object \n",
      " 5   Seat_Types              3287 non-null   object \n",
      " 6   Seat Comfort            3176 non-null   float64\n",
      " 7   Date Flown              2880 non-null   object \n",
      " 8   Cabin Staff Service     3165 non-null   float64\n",
      " 9   Ground Service          2812 non-null   float64\n",
      " 10  Food & Beverages        2911 non-null   float64\n",
      " 11  Wifi & Connectivity     592 non-null    float64\n",
      " 12  Inflight Entertainment  2171 non-null   float64\n",
      " 13  Value For Money         3290 non-null   int64  \n",
      " 14  Recommended             3290 non-null   object \n",
      "dtypes: float64(6), int64(1), object(8)\n",
      "memory usage: 385.7+ KB\n"
     ]
    },
    {
     "data": {
      "text/plain": [
       "Aircraft Type              2\n",
       "Users Reviews             63\n",
       "Country                   63\n",
       "Type_of_Travellers         2\n",
       "Route                      2\n",
       "Seat_Types                62\n",
       "Seat Comfort              63\n",
       "Date Flown                 2\n",
       "Cabin Staff Service       63\n",
       "Ground Service             2\n",
       "Food & Beverages          63\n",
       "Wifi & Connectivity        0\n",
       "Inflight Entertainment    63\n",
       "Value For Money           63\n",
       "Recommended               63\n",
       "dtype: int64"
      ]
     },
     "execution_count": 9,
     "metadata": {},
     "output_type": "execute_result"
    }
   ],
   "source": [
    "\n",
    "import pandas as pd\n",
    "reviews = pd.read_csv(\"Airlines_User-Reviews_Raw.csv\")\n",
    "\n",
    "reviews.info()\n",
    "reviews.count() - reviews.drop_duplicates().count()"
   ]
  },
  {
   "cell_type": "markdown",
   "metadata": {},
   "source": [
    "## Exploration\n",
    "\n",
    "### Duplicates \n",
    "Here  we can see there is some duplicates ,the question I asked my self is not all of duplicates has non-sense, ok the double negation may not be clear sorry. But the thing is some duplicates needs to be kept cause they are important values. (In fact even an null value can be exploitable). But lets keep it simple  at first and analyze wich entities could have duplicates and which can not. \n",
    "For exemple Aircraft "
   ]
  },
  {
   "cell_type": "markdown",
   "metadata": {},
   "source": []
  },
  {
   "cell_type": "code",
   "execution_count": 5,
   "metadata": {},
   "outputs": [],
   "source": []
  },
  {
   "cell_type": "code",
   "execution_count": 8,
   "metadata": {},
   "outputs": [
    {
     "name": "stdout",
     "output_type": "stream",
     "text": [
      "<class 'pandas.core.frame.DataFrame'>\n",
      "RangeIndex: 3290 entries, 0 to 3289\n",
      "Data columns (total 15 columns):\n",
      " #   Column                  Non-Null Count  Dtype  \n",
      "---  ------                  --------------  -----  \n",
      " 0   Aircraft Type           1896 non-null   object \n",
      " 1   Users Reviews           3290 non-null   object \n",
      " 2   Country                 3289 non-null   object \n",
      " 3   Type_of_Travellers      2887 non-null   object \n",
      " 4   Route                   2883 non-null   object \n",
      " 5   Seat_Types              3287 non-null   object \n",
      " 6   Seat Comfort            3176 non-null   float64\n",
      " 7   Date Flown              2880 non-null   object \n",
      " 8   Cabin Staff Service     3165 non-null   float64\n",
      " 9   Ground Service          2812 non-null   float64\n",
      " 10  Food & Beverages        2911 non-null   float64\n",
      " 11  Wifi & Connectivity     592 non-null    float64\n",
      " 12  Inflight Entertainment  2171 non-null   float64\n",
      " 13  Value For Money         3290 non-null   int64  \n",
      " 14  Recommended             3290 non-null   object \n",
      "dtypes: float64(6), int64(1), object(8)\n",
      "memory usage: 385.7+ KB\n"
     ]
    },
    {
     "data": {
      "text/plain": [
       "Aircraft Type              2\n",
       "Users Reviews             63\n",
       "Country                   63\n",
       "Type_of_Travellers         2\n",
       "Route                      2\n",
       "Seat_Types                62\n",
       "Seat Comfort              63\n",
       "Date Flown                 2\n",
       "Cabin Staff Service       63\n",
       "Ground Service             2\n",
       "Food & Beverages          63\n",
       "Wifi & Connectivity        0\n",
       "Inflight Entertainment    63\n",
       "Value For Money           63\n",
       "Recommended               63\n",
       "dtype: int64"
      ]
     },
     "execution_count": 8,
     "metadata": {},
     "output_type": "execute_result"
    }
   ],
   "source": []
  }
 ],
 "metadata": {
  "kernelspec": {
   "display_name": "base",
   "language": "python",
   "name": "python3"
  },
  "language_info": {
   "codemirror_mode": {
    "name": "ipython",
    "version": 3
   },
   "file_extension": ".py",
   "mimetype": "text/x-python",
   "name": "python",
   "nbconvert_exporter": "python",
   "pygments_lexer": "ipython3",
   "version": "3.11.5"
  },
  "orig_nbformat": 4
 },
 "nbformat": 4,
 "nbformat_minor": 2
}
